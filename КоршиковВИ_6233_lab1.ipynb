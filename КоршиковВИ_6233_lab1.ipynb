{
  "cells": [
    {
      "cell_type": "markdown",
      "metadata": {
        "id": "Wv-Y-r-NpR9l"
      },
      "source": [
        "# Лабораторная работа 1"
      ]
    },
    {
      "cell_type": "markdown",
      "metadata": {
        "id": "KPDD_6BypR9n"
      },
      "source": [
        "1) Классификация данных методом k ближайших соседей ( kNN)\n",
        "\n",
        "2) Классификация данных методом опорных векторов (SVM)\n",
        "\n",
        "3) Построение softmax-классификатора\n",
        "\n",
        "Вариант 1: задания 1 и 2 на наборе данных CIFAR-10\n",
        "\n",
        "ВЫБРАН ВАРИАНТ 1"
      ]
    },
    {
      "cell_type": "markdown",
      "metadata": {
        "id": "3sJkZC0CpR9o"
      },
      "source": [
        "Лабораторные работы можно выполнять с использованием сервиса Google Colaboratory (https://medium.com/deep-learning-turkey/google-colab-free-gpu-tutorial-e113627b9f5d) или на локальном компьютере. "
      ]
    },
    {
      "cell_type": "markdown",
      "metadata": {
        "id": "UpmtTRC9pR9o"
      },
      "source": [
        "## 1. Классификация данных методом k ближайших соседей ( kNN)"
      ]
    },
    {
      "cell_type": "code",
      "source": [
        "from google.colab import drive\n",
        "drive.mount('/content/drive')"
      ],
      "metadata": {
        "colab": {
          "base_uri": "https://localhost:8080/"
        },
        "id": "CYBz3dfD7-e_",
        "outputId": "6333de7e-134f-41cd-a6ae-d5580752d697"
      },
      "execution_count": 291,
      "outputs": [
        {
          "output_type": "stream",
          "name": "stdout",
          "text": [
            "Drive already mounted at /content/drive; to attempt to forcibly remount, call drive.mount(\"/content/drive\", force_remount=True).\n"
          ]
        }
      ]
    },
    {
      "cell_type": "code",
      "execution_count": 292,
      "metadata": {
        "id": "BrWe1xBgpR9o"
      },
      "outputs": [],
      "source": [
        "# Импортируем необходимые библиотеки\n",
        "\n",
        "import random\n",
        "import numpy as np\n",
        "import matplotlib.pyplot as plt\n",
        "import matplotlib.font_manager as font_manager\n",
        "import sklearn\n",
        "from sklearn.metrics import accuracy_score\n",
        "import keras\n",
        "\n",
        "import time\n",
        "from datetime import datetime\n",
        "\n",
        "import tensorflow as tf\n",
        "\n",
        "#Импортируем датасеты\n",
        "from keras.datasets import cifar10\n",
        "\n",
        "from scipy import spatial\n",
        "\n",
        "%matplotlib inline\n",
        "plt.rcParams['figure.figsize'] = (10.0, 8.0) \n",
        "plt.rcParams['image.interpolation'] = 'nearest'\n",
        "plt.rcParams['image.cmap'] = 'gray'"
      ]
    },
    {
      "cell_type": "markdown",
      "metadata": {
        "id": "5uxa4IdMpR9p"
      },
      "source": [
        "\n"
      ]
    },
    {
      "cell_type": "markdown",
      "metadata": {
        "id": "nKlV1SUqpR9p"
      },
      "source": [
        "1.1 Скачайте данные в соответсвии с заданием.\n",
        "\n",
        "CIFAR-10 по ссылке https://www.cs.toronto.edu/~kriz/cifar.html\n",
        "или используйте  команду !bash get_datasets.sh (google colab, local ubuntu)\n",
        "\n",
        "MNIST \n",
        "sklearn.datasets import load_digits\n",
        "digits = load_digits()"
      ]
    },
    {
      "cell_type": "code",
      "execution_count": 293,
      "metadata": {
        "id": "XJpd04ispR9p"
      },
      "outputs": [],
      "source": [
        "# После импорта датасетов необходимо определить их в соответствующие переменные\n",
        "cifar = cifar10.load_data()"
      ]
    },
    {
      "cell_type": "markdown",
      "source": [
        "Разделим выборку на тренировочную и тестовую, посмотрим её размер"
      ],
      "metadata": {
        "id": "_yW_38PVtds8"
      }
    },
    {
      "cell_type": "code",
      "execution_count": 294,
      "metadata": {
        "colab": {
          "base_uri": "https://localhost:8080/"
        },
        "id": "v-zPjMNlpR9p",
        "outputId": "9505e2f4-d6a9-4ea6-c95e-f33c16058765"
      },
      "outputs": [
        {
          "output_type": "stream",
          "name": "stdout",
          "text": [
            "(50000, 32, 32, 3) (50000, 1)\n",
            "(10000, 32, 32, 3) (10000, 1)\n"
          ]
        }
      ],
      "source": [
        "(x_train, y_train), (x_test, y_test) = cifar\n",
        "\n",
        "\n",
        "print(x_train.shape, y_train.shape)\n",
        "print(x_test.shape, y_test.shape)"
      ]
    },
    {
      "cell_type": "markdown",
      "metadata": {
        "id": "xPGHlKolpR9q"
      },
      "source": [
        "1.2 Выведите несколько примеров изображений из обучающей выборки для каждого класса.\n",
        "\n"
      ]
    },
    {
      "cell_type": "code",
      "execution_count": 295,
      "metadata": {
        "id": "_KwaLcFSpR9q",
        "colab": {
          "base_uri": "https://localhost:8080/",
          "height": 483
        },
        "outputId": "00610c07-7e59-420d-fa4c-1c9f2582599f"
      },
      "outputs": [
        {
          "output_type": "display_data",
          "data": {
            "text/plain": [
              "<Figure size 720x576 with 2 Axes>"
            ],
            "image/png": "[encoded data removed]"
          },
          "metadata": {
            "needs_background": "light"
          }
        }
      ],
      "source": [
        "# посмотрим, как выглядят изображения\n",
        "plt.figure()\n",
        "plt.imshow(x_train[1])\n",
        "plt.colorbar()\n",
        "plt.grid(False)"
      ]
    },
    {
      "cell_type": "code",
      "source": [
        "np.unique(y_train)"
      ],
      "metadata": {
        "colab": {
          "base_uri": "https://localhost:8080/"
        },
        "id": "eVDFF7Un4dvg",
        "outputId": "43f73bb5-6473-4486-e5f5-f61e77675b53"
      },
      "execution_count": 296,
      "outputs": [
        {
          "output_type": "execute_result",
          "data": {
            "text/plain": [
              "array([0, 1, 2, 3, 4, 5, 6, 7, 8, 9], dtype=uint8)"
            ]
          },
          "metadata": {},
          "execution_count": 296
        }
      ]
    },
    {
      "cell_type": "code",
      "source": [
        "mapping_labels = ['plane', 'car', 'bird', 'cat', 'deer', 'dog', 'frog', 'horse', 'ship', 'truck']\n",
        "n_classes = len(mapping_labels)\n",
        "n_samples = 5\n",
        "\n",
        "for class_index, class_name in enumerate(mapping_labels):\n",
        "    class_indexes = np.random.choice(np.flatnonzero(y_train == class_index), n_samples, replace=False)\n",
        "    for i, idx in enumerate(class_indexes):\n",
        "        plt_idx = i * n_classes + class_index + 1\n",
        "        plt.subplot(n_samples, n_classes, plt_idx)\n",
        "        plt.imshow(x_train[idx].astype('uint8'))\n",
        "        plt.axis('off')\n",
        "        if i == 0:\n",
        "            plt.title(class_name)\n",
        "plt.show()"
      ],
      "metadata": {
        "colab": {
          "base_uri": "https://localhost:8080/",
          "height": 454
        },
        "id": "gkuvJ2J24NiL",
        "outputId": "f2773aad-886b-457f-9095-defa2ed3830b"
      },
      "execution_count": 297,
      "outputs": [
        {
          "output_type": "display_data",
          "data": {
            "text/plain": [
              "<Figure size 720x576 with 50 Axes>"
            ],
            "image/png": "[encoded data removed]"
          },
          "metadata": {
            "needs_background": "light"
          }
        }
      ]
    },
    {
      "cell_type": "markdown",
      "metadata": {
        "id": "XtaCg6b-pR9q"
      },
      "source": [
        "1.3 Разделите данные на обучающу и тестовую выборки (X_train, y_train, X_test, y_test). Преобразуйте каждое изображение в одномерный массив. "
      ]
    },
    {
      "cell_type": "code",
      "execution_count": 298,
      "metadata": {
        "id": "mTuzI8JHpR9q"
      },
      "outputs": [],
      "source": [
        "# сократим объем выборки (слишком долго все считается)\n",
        "num_training = 5000\n",
        "mask = list(range(num_training))\n",
        "x_train_mask = x_train[mask]\n",
        "y_train_new = y_train[mask]\n",
        "\n",
        "num_test = 500\n",
        "mask = list(range(num_test))\n",
        "x_test_mask = x_test[mask]\n",
        "y_test_new = y_test[mask]\n",
        "\n"
      ]
    },
    {
      "cell_type": "code",
      "source": [
        "# преобразуем изображения в одномерный массив.\n",
        "x_train_new = np.reshape(x_train_mask, (x_train_mask.shape[0], -1))\n",
        "x_test_new = np.reshape(x_test_mask, (x_test_mask.shape[0], -1))\n",
        "print(x_train_new.shape, x_test_new.shape, y_train_new.shape, y_test_new.shape)"
      ],
      "metadata": {
        "colab": {
          "base_uri": "https://localhost:8080/"
        },
        "id": "CJkUBpus5-XJ",
        "outputId": "543846dd-578d-4941-cd41-206cf370b310"
      },
      "execution_count": 299,
      "outputs": [
        {
          "output_type": "stream",
          "name": "stdout",
          "text": [
            "(5000, 3072) (500, 3072) (5000, 1) (500, 1)\n"
          ]
        }
      ]
    },
    {
      "cell_type": "markdown",
      "metadata": {
        "id": "zhJmScRopR9q"
      },
      "source": [
        "1.4 Напишите реализацию классификатора в скрипте /classifiers/k_nearest_neighbor.py и обучите его на сформированной выборке. "
      ]
    },
    {
      "cell_type": "markdown",
      "source": [
        "#Импортируем содержимое скрипта KNearestNeighbor"
      ],
      "metadata": {
        "id": "P8llv20YY1qV"
      }
    },
    {
      "cell_type": "code",
      "execution_count": 300,
      "metadata": {
        "id": "yDJ5WlOApR9r"
      },
      "outputs": [],
      "source": [
        "import numpy as np\n",
        "from tqdm import tqdm\n",
        "\n",
        "class KNearestNeighbor(object):\n",
        "    \"\"\" a kNN classifier with L2 distance \"\"\"\n",
        "\n",
        "    def __init__(self):\n",
        "        pass\n",
        "\n",
        "    def train(self, X, y):\n",
        "        \"\"\"\n",
        "        Train the classifier. For k-nearest neighbors this is just\n",
        "        memorizing the training data.\n",
        "        Inputs:\n",
        "        - X: A numpy array of shape (num_train, D) containing the training data\n",
        "          consisting of num_train samples each of dimension D.\n",
        "        - y: A numpy array of shape (N,) containing the training labels, where\n",
        "             y[i] is the label for X[i].\n",
        "        \"\"\"\n",
        "        self.X_train = X\n",
        "        self.y_train = y\n",
        "\n",
        "    def predict(self, X, k=1, num_loops=0):\n",
        "        \"\"\"\n",
        "        Predict labels for test data using this classifier.\n",
        "        Inputs:\n",
        "        - X: A numpy array of shape (num_test, D) containing test data consisting\n",
        "             of num_test samples each of dimension D.\n",
        "        - k: The number of nearest neighbors that vote for the predicted labels.\n",
        "        - num_loops: Determines which implementation to use to compute distances\n",
        "          between training points and testing points.\n",
        "        Returns:\n",
        "        - y: A numpy array of shape (num_test,) containing predicted labels for the\n",
        "          test data, where y[i] is the predicted label for the test point X[i].\n",
        "        \"\"\"\n",
        "        if num_loops == 0:\n",
        "            dists = self.compute_distances_no_loops(X)\n",
        "        elif num_loops == 1:\n",
        "            dists = self.compute_distances_one_loop(X)\n",
        "        elif num_loops == 2:\n",
        "            dists = self.compute_distances_two_loops(X)\n",
        "        else:\n",
        "            raise ValueError('Invalid value %d for num_loops' % num_loops)\n",
        "\n",
        "        return self.predict_labels(dists, k=k)\n",
        "\n",
        "    def compute_distances_two_loops(self, X):\n",
        "        \"\"\"\n",
        "        Compute the distance between each test point in X and each training point\n",
        "        in self.X_train using a nested loop over both the training data and the\n",
        "        test data.\n",
        "        Inputs:\n",
        "        - X: A numpy array of shape (num_test, D) containing test data.\n",
        "        Returns:\n",
        "        - dists: A numpy array of shape (num_test, num_train) where dists[i, j]\n",
        "          is the Euclidean distance between the ith test point and the jth training\n",
        "          point.\n",
        "        \"\"\"\n",
        "        num_test = X.shape[0]\n",
        "        num_train = self.X_train.shape[0]\n",
        "        dists = np.zeros((num_test, num_train))\n",
        "        for i in range(num_test):\n",
        "            for j in range(num_train):\n",
        "                #####################################################################\n",
        "                # TODO:                                                             #\n",
        "                # Compute the l2 distance between the ith test point and the jth    #\n",
        "                # training point, and store the result in dists[i, j]. You should   #\n",
        "                # not use a loop over dimension, nor use np.linalg.norm().          #\n",
        "                #####################################################################\n",
        "                # *****START OF YOUR CODE (DO NOT DELETE/MODIFY THIS LINE)*****\n",
        "\n",
        "                dists[i][j] = np.sqrt(np.sum((X[i] - self.X_train[j]) ** 2))\n",
        "                \n",
        "                #for j in range(num_train):\n",
        "                 #   dists[i, j] = np.sqrt(np.sum(np.square(X[i, :] - self.X_train[j, :])))\n",
        "\n",
        "                # *****END OF YOUR CODE (DO NOT DELETE/MODIFY THIS LINE)*****\n",
        "        return dists\n",
        "\n",
        "    def compute_distances_one_loop(self, X):\n",
        "        \"\"\"\n",
        "        Compute the distance between each test point in X and each training point\n",
        "        in self.X_train using a single loop over the test data.\n",
        "        Input / Output: Same as compute_distances_two_loops\n",
        "        \"\"\"\n",
        "        num_test = X.shape[0]\n",
        "        num_train = self.X_train.shape[0]\n",
        "        dists = np.zeros((num_test, num_train))\n",
        "        for i in range(num_test):\n",
        "            #######################################################################\n",
        "            # TODO:                                                               #\n",
        "            # Compute the l2 distance between the ith test point and all training #\n",
        "            # points, and store the result in dists[i, :].                        #\n",
        "            # Do not use np.linalg.norm().                                        #\n",
        "            #######################################################################\n",
        "            # *****START OF YOUR CODE (DO NOT DELETE/MODIFY THIS LINE)*****\n",
        "\n",
        "            #dists[i] = np.sqrt(np.sum((self.X_train - X[i]) ** 2, axis=1))\n",
        "            dists[i, :] = np.sqrt(np.sum(np.square(self.X_train - X[i, :]), axis = 1))\n",
        "            \n",
        "\n",
        "            # *****END OF YOUR CODE (DO NOT DELETE/MODIFY THIS LINE)*****\n",
        "        return dists\n",
        "\n",
        "    def compute_distances_no_loops(self, X):\n",
        "        \"\"\"\n",
        "        Compute the distance between each test point in X and each training point\n",
        "        in self.X_train using no explicit loops.\n",
        "        Input / Output: Same as compute_distances_two_loops\n",
        "        \"\"\"\n",
        "        num_test = X.shape[0]\n",
        "        num_train = self.X_train.shape[0]\n",
        "        dists = np.zeros((num_test, num_train))\n",
        "        #########################################################################\n",
        "        # TODO:                                                                 #\n",
        "        # Compute the l2 distance between all test points and all training      #\n",
        "        # points without using any explicit loops, and store the result in      #\n",
        "        # dists.                                                                #\n",
        "        #                                                                       #\n",
        "        # You should implement this function using only basic array operations; #\n",
        "        # in particular you should not use functions from scipy,                #\n",
        "        # nor use np.linalg.norm().                                             #\n",
        "        #                                                                       #\n",
        "        # HINT: Try to formulate the l2 distance using matrix multiplication    #\n",
        "        #       and two broadcast sums.                                         #\n",
        "        #########################################################################\n",
        "        # *****START OF YOUR CODE (DO NOT DELETE/MODIFY THIS LINE)*****\n",
        "        \n",
        "        #s1 = np.sum(X ** 2, axis=1)\n",
        "        #s2 = np.sum(self.X_train ** 2, axis=1)\n",
        "        #s = s1.reshape((num_test, 1)) + s2 - 2 * X.dot(self.X_train.T)\n",
        "        #dists = np.sqrt(s)\n",
        "        \n",
        "        dists = np.sqrt(-2 * np.dot(X, self.X_train.T) +\n",
        "                    np.sum(np.square(self.X_train), axis=1) +\n",
        "                    np.sum(np.square(X), axis=1)[:, np.newaxis])\n",
        "        \n",
        "        # *****END OF YOUR CODE (DO NOT DELETE/MODIFY THIS LINE)*****\n",
        "        return dists\n",
        "\n",
        "    def predict_labels(self, dists, k=1):\n",
        "        \"\"\"\n",
        "        Given a matrix of distances between test points and training points,\n",
        "        predict a label for each test point.\n",
        "        Inputs:\n",
        "        - dists: A numpy array of shape (num_test, num_train) where dists[i, j]\n",
        "          gives the distance betwen the ith test point and the jth training point.\n",
        "        Returns:\n",
        "        - y: A numpy array of shape (num_test,) containing predicted labels for the\n",
        "          test data, where y[i] is the predicted label for the test point X[i].\n",
        "        \"\"\"\n",
        "        num_test = dists.shape[0]\n",
        "        y_pred = np.zeros(num_test)\n",
        "        for i in range(num_test):\n",
        "            # A list of length k storing the labels of the k nearest neighbors to\n",
        "            # the ith test point.\n",
        "            closest_y = []\n",
        "            #########################################################################\n",
        "            # TODO:                                                                 #\n",
        "            # Use the distance matrix to find the k nearest neighbors of the ith    #\n",
        "            # testing point, and use self.y_train to find the labels of these       #\n",
        "            # neighbors. Store these labels in closest_y.                           #\n",
        "            # Hint: Look up the function numpy.argsort.                             #\n",
        "            #########################################################################\n",
        "            # *****START OF YOUR CODE (DO NOT DELETE/MODIFY THIS LINE)*****\n",
        "\n",
        "            knn_ix = dists[i].argsort()[:k]\n",
        "            closest_y = self.y_train[knn_ix]\n",
        "            \n",
        "            # *****END OF YOUR CODE (DO NOT DELETE/MODIFY THIS LINE)*****\n",
        "            #########################################################################\n",
        "            # TODO:                                                                 #\n",
        "            # Now that you have found the labels of the k nearest neighbors, you    #\n",
        "            # need to find the most common label in the list closest_y of labels.   #\n",
        "            # Store this label in y_pred[i]. Break ties by choosing the smaller     #\n",
        "            # label.                                                                #\n",
        "            #########################################################################\n",
        "            # *****START OF YOUR CODE (DO NOT DELETE/MODIFY THIS LINE)*****\n",
        "            \n",
        "            values, counts = np.unique(closest_y, return_counts=True)\n",
        "            y_pred[i] = values[counts == counts.max()].min()\n",
        "\n",
        "            # *****END OF YOUR CODE (DO NOT DELETE/MODIFY THIS LINE)*****\n",
        "\n",
        "        return y_pred\n"
      ]
    },
    {
      "cell_type": "markdown",
      "source": [
        "# Импорт прошёл успешно"
      ],
      "metadata": {
        "id": "ras8BwprBLWB"
      }
    },
    {
      "cell_type": "code",
      "source": [
        "classifier_KNN = KNearestNeighbor()\n",
        "classifier_KNN.train(x_train_new, y_train_new)"
      ],
      "metadata": {
        "id": "B-RasdGwZXHO"
      },
      "execution_count": 301,
      "outputs": []
    },
    {
      "cell_type": "markdown",
      "metadata": {
        "id": "ltCJvzbupR9r"
      },
      "source": [
        "1.5 Выполните классификацию на тестовой выборке"
      ]
    },
    {
      "cell_type": "code",
      "execution_count": 302,
      "metadata": {
        "id": "yWHj1T5EpR9r",
        "colab": {
          "base_uri": "https://localhost:8080/"
        },
        "outputId": "5be6d208-dd83-4bde-a045-e1112bad2957"
      },
      "outputs": [
        {
          "output_type": "stream",
          "name": "stdout",
          "text": [
            "(500, 5000)\n"
          ]
        }
      ],
      "source": [
        "# пробуем разные алгоритмы, замеряем время выполнения\n",
        "\n",
        "start_time2 = datetime.now()\n",
        "\n",
        "dists_two_loops = classifier_KNN.compute_distances_two_loops(x_test_new)\n",
        "\n",
        "time_two_loops = datetime.now() - start_time2\n",
        "\n",
        "print(dists_two_loops.shape)"
      ]
    },
    {
      "cell_type": "markdown",
      "metadata": {
        "id": "PpAChhdwpR9r"
      },
      "source": [
        "1.6 Визуализируйте матрицу расстояний для каждого изображения из тестовой выборки до изображений из обучающей выборки. \n"
      ]
    },
    {
      "cell_type": "code",
      "execution_count": 303,
      "metadata": {
        "id": "8FsWpyw3pR9r",
        "colab": {
          "base_uri": "https://localhost:8080/",
          "height": 125
        },
        "outputId": "6a4dbb25-074f-43eb-d7de-39f9ef98aaf6"
      },
      "outputs": [
        {
          "output_type": "execute_result",
          "data": {
            "text/plain": [
              "<matplotlib.image.AxesImage at 0x7f7d2bb0b290>"
            ]
          },
          "metadata": {},
          "execution_count": 303
        },
        {
          "output_type": "display_data",
          "data": {
            "text/plain": [
              "<Figure size 720x576 with 1 Axes>"
            ],
            "image/png": "[encoded data removed]"
          },
          "metadata": {
            "needs_background": "light"
          }
        }
      ],
      "source": [
        "plt.imshow(dists_two_loops, interpolation = 'none')\n"
      ]
    },
    {
      "cell_type": "markdown",
      "metadata": {
        "id": "TIAnJrtOpR9r"
      },
      "source": [
        "\n",
        "1.7 Посчитайте долю правильно классифицированных изображений из тестовой выборки.\n"
      ]
    },
    {
      "cell_type": "code",
      "source": [
        "def accuracy(y_true: np.ndarray, y_pred: np.ndarray) -> float:\n",
        "    return np.sum(y_pred == y_true) / np.sum(y_true.shape)"
      ],
      "metadata": {
        "id": "Xf3BCdFtM76i"
      },
      "execution_count": 304,
      "outputs": []
    },
    {
      "cell_type": "code",
      "source": [
        "knn_y_test_predicts = classifier_KNN.predict_labels(dists_two_loops)\n",
        "print(f\"Accuracy: {accuracy(knn_y_test_predicts, y_test_new)}\")"
      ],
      "metadata": {
        "colab": {
          "base_uri": "https://localhost:8080/"
        },
        "id": "CUe6Mb1qNgZU",
        "outputId": "bb1e1629-0c9e-4fd3-9686-e2ce7d47694d"
      },
      "execution_count": 305,
      "outputs": [
        {
          "output_type": "stream",
          "name": "stdout",
          "text": [
            "Accuracy: 52.076\n"
          ]
        }
      ]
    },
    {
      "cell_type": "code",
      "source": [
        "y_test_new_array = []\n",
        "for i in range (y_test_new.shape[0]):\n",
        "    y_test_new_array.append(np.float64(y_test_new[i][0]))\n",
        "y_test_new_array = np.array(y_test_new_array)"
      ],
      "metadata": {
        "id": "X7Nqyb4Ooj6A"
      },
      "execution_count": 306,
      "outputs": []
    },
    {
      "cell_type": "markdown",
      "metadata": {
        "id": "ZHokaz6jpR9r"
      },
      "source": [
        "1.8 Постройте график зависимости доли правильно классифицированных изображений от числа соседей, используемых при классификации."
      ]
    },
    {
      "cell_type": "code",
      "execution_count": 307,
      "metadata": {
        "id": "UutBgkRepR9r"
      },
      "outputs": [],
      "source": [
        "neighbors = [1, 2, 3, 4, 5, 8, 10, 12, 15, 20, 25, 30, 35, 40, 45, 50]\n",
        "\n",
        "accur = {1:0, 2:0, 3:0, 4:0, 5:0, 8:0, 10:0, 12:0, 15:0, 20:0, 25:0, 30:0, 35:0, 40:0, 45:0, 50:0}\n",
        "knn_accuracy = []\n",
        "\n",
        "\n",
        "for k in neighbors:\n",
        "    knn_model = KNearestNeighbor()\n",
        "    knn_model.train(x_train_new, y_train_new)\n",
        "    dists = knn_model.compute_distances_no_loops(x_test_new)\n",
        "    y_test_pred_knn = knn_model.predict_labels(dists, k = k)\n",
        "    knn_accuracy.append(np.sum(y_test_pred_knn == knn_y_test_predicts) / num_test)\n",
        "    accur[k] = np.sum(y_test_pred_knn == knn_y_test_predicts) / num_test"
      ]
    },
    {
      "cell_type": "markdown",
      "metadata": {
        "id": "0kvesryppR9s"
      },
      "source": [
        "1.9 Выберите лучшее значение параметра k на основе кросс-валидации.\n"
      ]
    },
    {
      "cell_type": "code",
      "execution_count": 308,
      "metadata": {
        "id": "pwQKa4EApR9s",
        "colab": {
          "base_uri": "https://localhost:8080/",
          "height": 497
        },
        "outputId": "15af9b47-1347-4799-8e75-310c0b71c86a"
      },
      "outputs": [
        {
          "output_type": "display_data",
          "data": {
            "text/plain": [
              "<Figure size 720x576 with 1 Axes>"
            ],
            "image/png": "[encoded data removed]"
          },
          "metadata": {
            "needs_background": "light"
          }
        }
      ],
      "source": [
        "# график зависимости\n",
        "\n",
        "plt.plot(neighbors, knn_accuracy, label = 'график зависимости от числа соседей')\n",
        "\n",
        "\n",
        "plt.legend()\n",
        "plt.xlabel('число соседей')\n",
        "plt.ylabel('доля правильно классифицированных')\n",
        "plt.show()"
      ]
    },
    {
      "cell_type": "code",
      "source": [
        "best_neighbors = max(accur, key = accur.get)\n",
        "print(best_neighbors)"
      ],
      "metadata": {
        "colab": {
          "base_uri": "https://localhost:8080/"
        },
        "id": "-l1JkEzFmADk",
        "outputId": "acd35d22-ae31-4b17-c8c9-b182398cef3c"
      },
      "execution_count": 309,
      "outputs": [
        {
          "output_type": "stream",
          "name": "stdout",
          "text": [
            "2\n"
          ]
        }
      ]
    },
    {
      "cell_type": "markdown",
      "metadata": {
        "id": "zZK9TkoIpR9s"
      },
      "source": [
        "\n",
        "1.10 Переобучите и протестируйте классификатор с использованием выбранного значения k.\n",
        "\n"
      ]
    },
    {
      "cell_type": "code",
      "execution_count": 310,
      "metadata": {
        "id": "dnByeSnspR9s"
      },
      "outputs": [],
      "source": [
        "model_KNN_best = KNearestNeighbor()\n",
        "model_KNN_best.train(x_train_new, y_train_new)"
      ]
    },
    {
      "cell_type": "code",
      "source": [
        "y_test_pred_two_loops = model_KNN_best.predict_labels(dists_two_loops, k = 5)\n",
        "\n",
        "\n",
        "print ('доля правильно классифицированных:', np.sum(y_test_pred_two_loops == y_test_new_array) / num_test)"
      ],
      "metadata": {
        "colab": {
          "base_uri": "https://localhost:8080/"
        },
        "id": "bhdnphuAmXog",
        "outputId": "e527cfce-f65f-493d-b12d-e00d3a770909"
      },
      "execution_count": 311,
      "outputs": [
        {
          "output_type": "stream",
          "name": "stdout",
          "text": [
            "доля правильно классифицированных: 0.2\n"
          ]
        }
      ]
    },
    {
      "cell_type": "markdown",
      "metadata": {
        "id": "rOjh33DspR9s"
      },
      "source": [
        "1.11 Сделайте выводы по результатам 1 части задания."
      ]
    },
    {
      "cell_type": "markdown",
      "source": [
        "Точность классификатора k-ближайших соседей зависит от количества соседей. С их увеличением растёт точность, но и время обучения. Плюс, В случае с большим количеством соседей растёт риск переобучения."
      ],
      "metadata": {
        "id": "mKPHLV5ttJNZ"
      }
    },
    {
      "cell_type": "markdown",
      "metadata": {
        "id": "dO4D4J_opR9s"
      },
      "source": [
        "## 2.  Классификация данных методом опорных векторов (SVM)"
      ]
    },
    {
      "cell_type": "markdown",
      "metadata": {
        "id": "uDEsAEO-pR9s"
      },
      "source": [
        "2.1 Разделите данные на обучающую, тестовую и валидационную выборки. Преобразуйте каждое изображение в одномерный массив. Выведите размеры выборок."
      ]
    },
    {
      "cell_type": "code",
      "execution_count": 312,
      "metadata": {
        "id": "Ezc8I1tmpR9s"
      },
      "outputs": [],
      "source": [
        "# Снова определим тренировочную и тестовую выборки\n",
        "(x_train, y_train), (x_test, y_test) = cifar"
      ]
    },
    {
      "cell_type": "code",
      "source": [
        "num_training = 49000\n",
        "num_validation = 1000\n",
        "num_test = 8000\n",
        "num_dev = 1000\n",
        "\n",
        "mask = range(num_training, num_training + num_validation)\n",
        "x_val = x_train[mask]\n",
        "y_val = y_train[mask]\n",
        "\n",
        "mask = range(num_training)\n",
        "x_train = x_train[mask]\n",
        "y_train = y_train[mask]\n",
        "\n",
        "\n",
        "mask = np.random.choice(num_training, num_dev, replace = False)\n",
        "x_dev = x_train[mask]\n",
        "y_dev = y_train[mask]\n",
        "\n",
        "mask = range(num_test)\n",
        "x_test = x_test[mask]\n",
        "y_test = y_test[mask]"
      ],
      "metadata": {
        "id": "kROmVMQZuBUm"
      },
      "execution_count": 313,
      "outputs": []
    },
    {
      "cell_type": "code",
      "source": [
        "x_train = np.reshape(x_train, (x_train.shape[0], -1))\n",
        "x_test = np.reshape(x_test, (x_test.shape[0], -1))\n",
        "x_val = np.reshape(x_val, (x_val.shape[0], -1))\n",
        "x_dev = np.reshape(x_dev, (x_dev.shape[0], -1))\n",
        "\n",
        "\n",
        "print (x_train.shape, y_train.shape)\n",
        "print (x_test.shape, y_test.shape)\n",
        "print (x_val.shape, y_val.shape)\n",
        "print (x_dev.shape, y_dev.shape)"
      ],
      "metadata": {
        "colab": {
          "base_uri": "https://localhost:8080/"
        },
        "id": "mlWh3wEiurbI",
        "outputId": "4cc62a47-870c-4652-ba80-095d29b3d795"
      },
      "execution_count": 314,
      "outputs": [
        {
          "output_type": "stream",
          "name": "stdout",
          "text": [
            "(49000, 3072) (49000, 1)\n",
            "(8000, 3072) (8000, 1)\n",
            "(1000, 3072) (1000, 1)\n",
            "(1000, 3072) (1000, 1)\n"
          ]
        }
      ]
    },
    {
      "cell_type": "markdown",
      "metadata": {
        "id": "Q-AwIlsXpR9s"
      },
      "source": [
        "2.2 Проведите предварительную обработку данных, путем вычитания среднего изображения, рассчитанного  по обучающей выборке."
      ]
    },
    {
      "cell_type": "code",
      "source": [
        "mean_image = np.mean(x_train, axis=0)\n",
        "print(mean_image[:10]) \n",
        "plt.figure(figsize = (4,4))\n",
        "plt.imshow(mean_image.reshape((32,32,3)).astype('uint8')) \n",
        "plt.show()"
      ],
      "metadata": {
        "colab": {
          "base_uri": "https://localhost:8080/",
          "height": 301
        },
        "id": "7djk0vLZvaPM",
        "outputId": "b415269b-7fb6-4b97-e4aa-150b9e0f649f"
      },
      "execution_count": 315,
      "outputs": [
        {
          "output_type": "stream",
          "name": "stdout",
          "text": [
            "[130.64189796 135.98173469 132.47391837 130.05569388 135.34804082\n",
            " 131.75402041 130.96055102 136.14328571 132.47636735 131.48467347]\n"
          ]
        },
        {
          "output_type": "display_data",
          "data": {
            "text/plain": [
              "<Figure size 288x288 with 1 Axes>"
            ],
            "image/png": "[encoded data removed]"
          },
          "metadata": {
            "needs_background": "light"
          }
        }
      ]
    },
    {
      "cell_type": "markdown",
      "source": [
        "2.3 Чтобы далее не учитывать смещение (свободный член b), добавьте дополнитульную размерность к массиву дынных и заполните ее 1."
      ],
      "metadata": {
        "id": "GIcONSPZv_Tg"
      }
    },
    {
      "cell_type": "code",
      "source": [
        "x_train = x_train - mean_image\n",
        "x_val = x_val -mean_image\n",
        "x_test = x_test - mean_image\n",
        "x_dev = x_dev - mean_image"
      ],
      "metadata": {
        "id": "lDjSSTeIv79Z"
      },
      "execution_count": 316,
      "outputs": []
    },
    {
      "cell_type": "code",
      "source": [
        "x_train = np.hstack([x_train, np.ones((x_train.shape[0], 1))])\n",
        "x_test = np.hstack([x_test, np.ones((x_test.shape[0], 1))])\n",
        "x_val = np.hstack([x_val, np.ones((x_val.shape[0], 1))])\n",
        "x_dev = np.hstack([x_dev, np.ones((x_dev.shape[0], 1))])\n",
        "\n",
        "\n",
        "print(x_train.shape, x_test.shape, x_val.shape, x_dev.shape)"
      ],
      "metadata": {
        "colab": {
          "base_uri": "https://localhost:8080/"
        },
        "id": "G6FH5pwuwPGF",
        "outputId": "35195644-84d1-4dd2-a49f-f5ca55c10568"
      },
      "execution_count": 317,
      "outputs": [
        {
          "output_type": "stream",
          "name": "stdout",
          "text": [
            "(49000, 3073) (8000, 3073) (1000, 3073) (1000, 3073)\n"
          ]
        }
      ]
    },
    {
      "cell_type": "markdown",
      "metadata": {
        "id": "CHNXfRNHpR9t"
      },
      "source": [
        "2.4 Реализуйте loss-функции в scripts/classifiers/linear_svm.py\n",
        "\n"
      ]
    },
    {
      "cell_type": "code",
      "execution_count": 318,
      "metadata": {
        "id": "1tqTkOoPpR9t"
      },
      "outputs": [],
      "source": [
        "W = np.random.randn(3073, 10) * 0.0001 "
      ]
    },
    {
      "cell_type": "markdown",
      "source": [
        "#Импортируем linear_svm"
      ],
      "metadata": {
        "id": "_sQgMXFw1TUB"
      }
    },
    {
      "cell_type": "code",
      "source": [
        "import numpy as np\n",
        "from random import shuffle\n",
        "\n",
        "\n",
        "def svm_loss_naive(W, X, y, reg):\n",
        "    \"\"\"\n",
        "    Structured SVM loss function, naive implementation (with loops).\n",
        "    Inputs have dimension D, there are C classes, and we operate on minibatches\n",
        "    of N examples.\n",
        "    Inputs:\n",
        "    - W: A numpy array of shape (D, C) containing weights.\n",
        "    - X: A numpy array of shape (N, D) containing a minibatch of data.\n",
        "    - y: A numpy array of shape (N,) containing training labels; y[i] = c means\n",
        "      that X[i] has label c, where 0 <= c < C.\n",
        "    - reg: (float) regularization strength\n",
        "    Returns a tuple of:\n",
        "    - loss as single float\n",
        "    - gradient with respect to weights W; an array of same shape as W\n",
        "    \"\"\"\n",
        "    dW = np.zeros(W.shape) # initialize the gradient as zero\n",
        "\n",
        "    # compute the loss and the gradient\n",
        "    num_classes = W.shape[1]\n",
        "    num_train = X.shape[0]\n",
        "    \n",
        "    loss = 0.0     \n",
        "    for i in range(1, num_train):\n",
        "        scores = X[i].dot(W)\n",
        "        correct_class_score = scores[y[i]]\n",
        "        for j in range(num_classes):\n",
        "            if j == y[i]:\n",
        "                continue\n",
        "            margin = scores[j] - correct_class_score + 1 # note delta = 1\n",
        "            if margin > 0:\n",
        "                loss = loss + margin\n",
        "                \n",
        "\n",
        "    # Right now the loss is a sum over all training examples, but we want it\n",
        "    # to be an average instead so we divide by num_train.\n",
        "    loss = loss / num_train\n",
        "\n",
        "    # Add regularization to the loss.\n",
        "    loss = loss + 0.5*reg * np.sum(W * W)\n",
        "\n",
        "    #############################################################################\n",
        "    # TODO:                                                                     #\n",
        "    # Compute the gradient of the loss function and store it dW.                #\n",
        "    # Rather than first computing the loss and then computing the derivative,   #\n",
        "    # it may be simpler to compute the derivative at the same time that the     #\n",
        "    # loss is being computed. As a result you may need to modify some of the    #\n",
        "    # code above to compute the gradient.                                       #\n",
        "    #############################################################################\n",
        "    # *****START OF YOUR CODE (DO NOT DELETE/MODIFY THIS LINE)*****\n",
        "\n",
        "    dW = dW + W * reg\n",
        "\n",
        "    # *****END OF YOUR CODE (DO NOT DELETE/MODIFY THIS LINE)*****\n",
        "    \n",
        "    return loss, dW\n",
        "\n",
        "\n",
        "\n",
        "def svm_loss_vectorized(W, X, y, reg):\n",
        "    \"\"\"\n",
        "    Structured SVM loss function, vectorized implementation.\n",
        "    Inputs and outputs are the same as svm_loss_naive.\n",
        "    \"\"\"\n",
        "    loss = 0.0\n",
        "    dW = np.zeros(W.shape) # initialize the gradient as zero\n",
        "\n",
        "    #############################################################################\n",
        "    # TODO:                                                                     #\n",
        "    # Implement a vectorized version of the structured SVM loss, storing the    #\n",
        "    # result in loss.                                                           #\n",
        "    #############################################################################\n",
        "    # *****START OF YOUR CODE (DO NOT DELETE/MODIFY THIS LINE)*****\n",
        "    \n",
        "    scores = np.dot(X,W)\n",
        "\n",
        "    num_train = X.shape[0]\n",
        "    rows = range(num_train)\n",
        "    correct_class_score = scores[rows[1],y]\n",
        "\n",
        "    margins = np.maximum(0,scores-np.reshape(correct_class_score,[num_train,1])+1)\n",
        "    margins[rows[1],y] = 0\n",
        "    loss = np.sum(margins)\n",
        "    loss /= num_train\n",
        "    loss += 0.5 * reg * np.sum(W * W)\n",
        "  \n",
        "    # *****END OF YOUR CODE (DO NOT DELETE/MODIFY THIS LINE)*****\n",
        "\n",
        "    #############################################################################\n",
        "    # TODO:                                                                     #\n",
        "    # Implement a vectorized version of the gradient for the structured SVM     #\n",
        "    # loss, storing the result in dW.                                           #\n",
        "    #                                                                           #\n",
        "    # Hint: Instead of computing the gradient from scratch, it may be easier    #\n",
        "    # to reuse some of the intermediate values that you used to compute the     #\n",
        "    # loss.                                                                     #\n",
        "    #############################################################################\n",
        "    # *****START OF YOUR CODE (DO NOT DELETE/MODIFY THIS LINE)*****\n",
        "\n",
        "    margins[margins > 0] = 1.0\n",
        "    row_sum = np.sum(margins, axis=1)                  \n",
        "    margins[np.arange(num_train), y] = -row_sum        \n",
        "    dW = dW + np.dot(X.T, margins)/num_train + reg * W  \n",
        "\n",
        "    # *****END OF YOUR CODE (DO NOT DELETE/MODIFY THIS LINE)*****\n",
        "\n",
        "    return loss, dW"
      ],
      "metadata": {
        "id": "PhhStdl_1Rmw"
      },
      "execution_count": 319,
      "outputs": []
    },
    {
      "cell_type": "markdown",
      "source": [
        "# Импорт прошёл успешно"
      ],
      "metadata": {
        "id": "I4PqijOv1z-B"
      }
    },
    {
      "cell_type": "code",
      "source": [
        "loss, grad = svm_loss_naive(W, x_dev, y_dev, 0.00001)\n",
        "print('loss: %f' % (loss, ))"
      ],
      "metadata": {
        "colab": {
          "base_uri": "https://localhost:8080/"
        },
        "id": "7Ug0-Pzg1x-A",
        "outputId": "b4fca1f9-cfa2-45f9-debd-9210531804c5"
      },
      "execution_count": 320,
      "outputs": [
        {
          "output_type": "stream",
          "name": "stdout",
          "text": [
            "loss: 9.245781\n"
          ]
        }
      ]
    },
    {
      "cell_type": "markdown",
      "metadata": {
        "id": "CbFpCAZMpR9t"
      },
      "source": [
        "\n",
        "2.5 Убедитесь, что вы верно реализовали расчет градиента, сравнив с реализацией численными методами (код приведен ниже)."
      ]
    },
    {
      "cell_type": "markdown",
      "source": [
        "# Импортируем gradient_check"
      ],
      "metadata": {
        "id": "8ldhOSnf4hcO"
      }
    },
    {
      "cell_type": "code",
      "source": [
        "from __future__ import print_function\n",
        "\n",
        "import numpy as np\n",
        "from random import randrange\n",
        "\n",
        "\n",
        "def eval_numerical_gradient(f, x, verbose=True, h=0.00001):\n",
        "    \"\"\"\n",
        "    a naive implementation of numerical gradient of f at x\n",
        "    - f should be a function that takes a single argument\n",
        "    - x is the point (numpy array) to evaluate the gradient at\n",
        "    \"\"\"\n",
        "\n",
        "    fx = f(x)  # evaluate function value at original point\n",
        "    grad = np.zeros_like(x)\n",
        "    # iterate over all indexes in x\n",
        "    it = np.nditer(x, flags=['multi_index'], op_flags=['readwrite'])\n",
        "    while not it.finished:\n",
        "\n",
        "        # evaluate function at x+h\n",
        "        ix = it.multi_index\n",
        "        oldval = x[ix]\n",
        "        x[ix] = oldval + h  # increment by h\n",
        "        fxph = f(x)  # evalute f(x + h)\n",
        "        x[ix] = oldval - h\n",
        "        fxmh = f(x)  # evaluate f(x - h)\n",
        "        x[ix] = oldval  # restore\n",
        "\n",
        "        # compute the partial derivative with centered formula\n",
        "        grad[ix] = (fxph - fxmh) / (2 * h)  # the slope\n",
        "        if verbose:\n",
        "            print(ix, grad[ix])\n",
        "        it.iternext()  # step to next dimension\n",
        "\n",
        "    return grad\n",
        "\n",
        "\n",
        "def eval_numerical_gradient_array(f, x, df, h=1e-5):\n",
        "    \"\"\"\n",
        "    Evaluate a numeric gradient for a function that accepts a numpy\n",
        "    array and returns a numpy array.\n",
        "    \"\"\"\n",
        "    grad = np.zeros_like(x)\n",
        "    it = np.nditer(x, flags=['multi_index'], op_flags=['readwrite'])\n",
        "    while not it.finished:\n",
        "        ix = it.multi_index\n",
        "\n",
        "        oldval = x[ix]\n",
        "        x[ix] = oldval + h\n",
        "        pos = f(x).copy()\n",
        "        x[ix] = oldval - h\n",
        "        neg = f(x).copy()\n",
        "        x[ix] = oldval\n",
        "\n",
        "        grad[ix] = np.sum((pos - neg) * df) / (2 * h)\n",
        "        it.iternext()\n",
        "    return grad\n",
        "\n",
        "\n",
        "def eval_numerical_gradient_blobs(f, inputs, output, h=1e-5):\n",
        "    \"\"\"\n",
        "    Compute numeric gradients for a function that operates on input\n",
        "    and output blobs.\n",
        "    We assume that f accepts several input blobs as arguments, followed by a\n",
        "    blob where outputs will be written. For example, f might be called like:\n",
        "    f(x, w, out)\n",
        "    where x and w are input Blobs, and the result of f will be written to out.\n",
        "    Inputs:\n",
        "    - f: function\n",
        "    - inputs: tuple of input blobs\n",
        "    - output: output blob\n",
        "    - h: step size\n",
        "    \"\"\"\n",
        "    numeric_diffs = []\n",
        "    for input_blob in inputs:\n",
        "        diff = np.zeros_like(input_blob.diffs)\n",
        "        it = np.nditer(input_blob.vals, flags=['multi_index'],\n",
        "                       op_flags=['readwrite'])\n",
        "        while not it.finished:\n",
        "            idx = it.multi_index\n",
        "            orig = input_blob.vals[idx]\n",
        "\n",
        "            input_blob.vals[idx] = orig + h\n",
        "            f(*(inputs + (output,)))\n",
        "            pos = np.copy(output.vals)\n",
        "            input_blob.vals[idx] = orig - h\n",
        "            f(*(inputs + (output,)))\n",
        "            neg = np.copy(output.vals)\n",
        "            input_blob.vals[idx] = orig\n",
        "\n",
        "            diff[idx] = np.sum((pos - neg) * output.diffs) / (2.0 * h)\n",
        "\n",
        "            it.iternext()\n",
        "        numeric_diffs.append(diff)\n",
        "    return numeric_diffs\n",
        "\n",
        "\n",
        "def eval_numerical_gradient_net(net, inputs, output, h=1e-5):\n",
        "    return eval_numerical_gradient_blobs(lambda *args: net.forward(),\n",
        "                                         inputs, output, h=h)\n",
        "\n",
        "\n",
        "def grad_check_sparse(f, x, analytic_grad, num_checks=10, h=1e-5):\n",
        "    \"\"\"\n",
        "    sample a few random elements and only return numerical\n",
        "    in this dimensions.\n",
        "    \"\"\"\n",
        "\n",
        "    for i in range(num_checks):\n",
        "        ix = tuple([randrange(m) for m in x.shape])\n",
        "\n",
        "        oldval = x[ix]\n",
        "        x[ix] = oldval + h  # increment by h\n",
        "        fxph = f(x)  # evaluate f(x + h)\n",
        "        x[ix] = oldval - h  # increment by h\n",
        "        fxmh = f(x)  # evaluate f(x - h)\n",
        "        x[ix] = oldval  # reset\n",
        "\n",
        "        grad_numerical = (fxph - fxmh) / (2 * h)\n",
        "        grad_analytic = analytic_grad[ix]\n",
        "        rel_error = (abs(grad_numerical - grad_analytic) /\n",
        "                     (abs(grad_numerical) + abs(grad_analytic)))\n",
        "        print('numerical: %f analytic: %f, relative error: %e'\n",
        "              % (grad_numerical, grad_analytic, rel_error))"
      ],
      "metadata": {
        "id": "LUOpcVaN4pu8"
      },
      "execution_count": 321,
      "outputs": []
    },
    {
      "cell_type": "markdown",
      "source": [
        "# Импорт прошёл успешно"
      ],
      "metadata": {
        "id": "ZGy2UrDR4xv0"
      }
    },
    {
      "cell_type": "code",
      "execution_count": 322,
      "metadata": {
        "id": "QvaZCFPYpR9t",
        "colab": {
          "base_uri": "https://localhost:8080/"
        },
        "outputId": "8017d563-a477-49ba-e951-5d0c28508ed7"
      },
      "outputs": [
        {
          "output_type": "stream",
          "name": "stdout",
          "text": [
            "numerical: -2.595215 analytic: 0.000000, relative error: 1.000000e+00\n",
            "numerical: 3.528293 analytic: 0.000000, relative error: 1.000000e+00\n",
            "numerical: 21.857754 analytic: 0.000000, relative error: 1.000000e+00\n",
            "numerical: 9.907138 analytic: 0.000000, relative error: 1.000000e+00\n",
            "numerical: -9.272734 analytic: 0.000000, relative error: 1.000000e+00\n",
            "numerical: -6.996214 analytic: 0.000000, relative error: 1.000000e+00\n",
            "numerical: 17.842748 analytic: 0.000000, relative error: 1.000000e+00\n",
            "numerical: -2.746160 analytic: 0.000000, relative error: 1.000000e+00\n",
            "numerical: 19.063997 analytic: 0.000000, relative error: 1.000000e+00\n",
            "numerical: 7.137181 analytic: 0.000000, relative error: 1.000000e+00\n",
            "numerical: -11.367223 analytic: -0.003860, relative error: 9.993211e-01\n",
            "numerical: 1.964278 analytic: -0.006314, relative error: 1.000000e+00\n",
            "numerical: 13.546423 analytic: -0.001208, relative error: 1.000000e+00\n",
            "numerical: 4.210733 analytic: -0.003446, relative error: 1.000000e+00\n",
            "numerical: 11.206658 analytic: 0.011416, relative error: 9.979647e-01\n",
            "numerical: 16.072713 analytic: 0.006275, relative error: 9.992195e-01\n",
            "numerical: 3.710118 analytic: -0.005892, relative error: 1.000000e+00\n",
            "numerical: 33.320298 analytic: -0.009960, relative error: 1.000000e+00\n",
            "numerical: -0.201293 analytic: -0.007835, relative error: 9.250664e-01\n",
            "numerical: 14.849633 analytic: 0.000100, relative error: 9.999866e-01\n"
          ]
        }
      ],
      "source": [
        "\n",
        "loss, grad = svm_loss_naive(W, x_dev, y_dev, 0.0)\n",
        "\n",
        "f = lambda w: svm_loss_naive(w, x_dev, y_dev, 0.0)[0]\n",
        "grad_numerical = grad_check_sparse(f, W, grad)\n",
        "\n",
        "\n",
        "loss, grad = svm_loss_naive(W, x_dev, y_dev, 5e1)\n",
        "f = lambda w: svm_loss_naive(w, x_dev, y_dev, 5e1)[0]\n",
        "grad_numerical = grad_check_sparse(f, W, grad)"
      ]
    },
    {
      "cell_type": "markdown",
      "metadata": {
        "id": "L7BCSiY7pR9t"
      },
      "source": [
        "2.6 Сравните svm_loss_naive и svm_loss_vectorized реализации"
      ]
    },
    {
      "cell_type": "code",
      "execution_count": 323,
      "metadata": {
        "id": "7WRsi-AppR9t",
        "colab": {
          "base_uri": "https://localhost:8080/"
        },
        "outputId": "7590f9c2-5e7d-4c6d-af1f-ae8cc43f5625"
      },
      "outputs": [
        {
          "output_type": "stream",
          "name": "stdout",
          "text": [
            "Naive loss and gradient: computed in 0.158741s\n",
            "Vectorized loss and gradient: computed in 0.040282s\n",
            "difference: 2989.203877\n"
          ]
        }
      ],
      "source": [
        "tic = time.time()\n",
        "_, grad_naive = svm_loss_naive(W, x_dev, y_dev, 0.000005)\n",
        "toc = time.time()\n",
        "print('Naive loss and gradient: computed in %fs' % (toc - tic))\n",
        "\n",
        "tic = time.time()\n",
        "_, grad_vectorized = svm_loss_vectorized(W, x_dev, y_dev, 0.000005)\n",
        "toc = time.time()\n",
        "print('Vectorized loss and gradient: computed in %fs' % (toc - tic))\n",
        "\n",
        "difference = np.linalg.norm(grad_naive - grad_vectorized, ord='fro')\n",
        "print('difference: %f' % difference)"
      ]
    },
    {
      "cell_type": "markdown",
      "metadata": {
        "id": "wL3UZyKRpR9u"
      },
      "source": [
        "2.7 Реализуйте стохастический градиентный спуск в /classifiers/linear_classifier.py . Реализуйте методы train() и predict() и запустите следующий код"
      ]
    },
    {
      "cell_type": "markdown",
      "source": [
        "# Импортируем linear_classifier"
      ],
      "metadata": {
        "id": "7Xyn6z-o7vWg"
      }
    },
    {
      "cell_type": "code",
      "source": [
        "\n",
        "from __future__ import annotations\n",
        "\n",
        "from typing import TYPE_CHECKING\n",
        "\n",
        "import numpy as np\n",
        "from tqdm import tqdm\n",
        "\n",
        "if TYPE_CHECKING:\n",
        "    from typing import List\n",
        "\n",
        "\n",
        "class LinearClassifier(object):\n",
        "\n",
        "    def __init__(self):\n",
        "        self.W = None\n",
        "\n",
        "    def train(\n",
        "            self,\n",
        "            X: np.ndarray,\n",
        "            y: np.ndarray,\n",
        "            learning_rate: float = 1e-3,\n",
        "            reg: float = 1e-5,\n",
        "            num_iters: int = 100,\n",
        "            batch_size: int = 200,\n",
        "            verbose: bool = False,\n",
        "    ) -> List[float]:\n",
        "        \"\"\"\n",
        "        Train this linear classifier using stochastic gradient descent.\n",
        "        Inputs:\n",
        "        - X: A numpy array of shape (N, D) containing training data; there are N\n",
        "          training samples each of dimension D.\n",
        "        - y: A numpy array of shape (N,) containing training labels; y[i] = c\n",
        "          means that X[i] has label 0 <= c < C for C classes.\n",
        "        - learning_rate: (float) learning rate for optimization.\n",
        "        - reg: (float) regularization strength.\n",
        "        - num_iters: (integer) number of steps to take when optimizing\n",
        "        - batch_size: (integer) number of training examples to use at each step.\n",
        "        - verbose: (boolean) If true, print progress during optimization.\n",
        "        Outputs:\n",
        "        A list containing the value of the loss function at each training iteration.\n",
        "        \"\"\"\n",
        "        num_train, dim = X.shape\n",
        "        num_classes = np.max(y) + 1  # assume y takes values 0...K-1 where K is number of classes\n",
        "        if self.W is None:\n",
        "            # lazily initialize W\n",
        "            self.W = 0.001 * np.random.randn(dim, num_classes)\n",
        "\n",
        "        # Run stochastic gradient descent to optimize W\n",
        "        loss_history = []\n",
        "        for it in tqdm(range(num_iters)):\n",
        "            X_batch = None\n",
        "            y_batch = None\n",
        "\n",
        "            #########################################################################\n",
        "            # TODO:                                                                 #\n",
        "            # Sample batch_size elements from the training data and their           #\n",
        "            # corresponding labels to use in this round of gradient descent.        #\n",
        "            # Store the data in X_batch and their corresponding labels in           #\n",
        "            # y_batch; after sampling X_batch should have shape (batch_size, dim)   #\n",
        "            # and y_batch should have shape (batch_size,)                           #\n",
        "            #                                                                       #\n",
        "            # Hint: Use np.random.choice to generate indices. Sampling with         #\n",
        "            # replacement is faster than sampling without replacement.              #\n",
        "            #########################################################################\n",
        "            # *****START OF YOUR CODE (DO NOT DELETE/MODIFY THIS LINE)*****\n",
        "\n",
        "            sample_index = np.random.choice(num_train, batch_size)\n",
        "            X_batch = X[sample_index]\n",
        "            y_batch = y[sample_index]\n",
        "\n",
        "            # *****END OF YOUR CODE (DO NOT DELETE/MODIFY THIS LINE)*****\n",
        "            #########################################################################\n",
        "            #                       END OF YOUR CODE                                #\n",
        "            #########################################################################\n",
        "\n",
        "            # evaluate loss and gradient\n",
        "            loss, grad = self.loss(X_batch, y_batch, reg)\n",
        "            loss_history.append(loss)\n",
        "\n",
        "            # perform parameter update\n",
        "            #########################################################################\n",
        "            # TODO:                                                                 #\n",
        "            # Update the weights using the gradient and the learning rate.          #\n",
        "            #########################################################################\n",
        "            # *****START OF YOUR CODE (DO NOT DELETE/MODIFY THIS LINE)*****\n",
        "\n",
        "            self.W -= grad * learning_rate\n",
        "\n",
        "            # *****END OF YOUR CODE (DO NOT DELETE/MODIFY THIS LINE)*****\n",
        "            #########################################################################\n",
        "            #                       END OF YOUR CODE                                #\n",
        "            #########################################################################\n",
        "\n",
        "            if verbose and it % 100 == 0:\n",
        "                print(\"iteration %d / %d: loss %f\" % (it, num_iters, loss))\n",
        "\n",
        "        return loss_history\n",
        "\n",
        "    def predict(self, X: np.ndarray) -> np.ndarray:\n",
        "        \"\"\"\n",
        "        Use the trained weights of this linear classifier to predict labels for\n",
        "        data points.\n",
        "        Inputs:\n",
        "        - X: A numpy array of shape (N, D) containing training data; there are N\n",
        "          training samples each of dimension D.\n",
        "        Returns:\n",
        "        - y_pred: Predicted labels for the data in X. y_pred is a 1-dimensional\n",
        "          array of length N, and each element is an integer giving the predicted\n",
        "          class.\n",
        "        \"\"\"\n",
        "        y_pred = np.zeros(X.shape[1])\n",
        "        ###########################################################################\n",
        "        # TODO:                                                                   #\n",
        "        # Implement this method. Store the predicted labels in y_pred.            #\n",
        "        ###########################################################################\n",
        "        # *****START OF YOUR CODE (DO NOT DELETE/MODIFY THIS LINE)*****\n",
        "\n",
        "        y_pred = np.argmax(X.dot(self.W), axis=1)\n",
        "\n",
        "        # *****END OF YOUR CODE (DO NOT DELETE/MODIFY THIS LINE)*****\n",
        "        ###########################################################################\n",
        "        #                           END OF YOUR CODE                              #\n",
        "        ###########################################################################\n",
        "        return y_pred\n",
        "\n",
        "    def loss(self, X_batch, y_batch, reg):\n",
        "        \"\"\"\n",
        "        Compute the loss function and its derivative.\n",
        "        Subclasses will override this.\n",
        "        Inputs:\n",
        "        - X_batch: A numpy array of shape (N, D) containing a minibatch of N\n",
        "          data points; each point has dimension D.\n",
        "        - y_batch: A numpy array of shape (N,) containing labels for the minibatch.\n",
        "        - reg: (float) regularization strength.\n",
        "        Returns: A tuple containing:\n",
        "        - loss as a single float\n",
        "        - gradient with respect to self.W; an array of the same shape as W\n",
        "        \"\"\"\n",
        "        pass\n",
        "\n",
        "\n",
        "class LinearSVM(LinearClassifier):\n",
        "    \"\"\" A subclass that uses the Multiclass SVM loss function \"\"\"\n",
        "\n",
        "    def loss(self, X_batch, y_batch, reg):\n",
        "        return svm_loss_vectorized(self.W, X_batch, y_batch, reg)\n",
        "\n",
        "\n",
        "class Softmax(LinearClassifier):\n",
        "    \"\"\" A subclass that uses the Softmax + Cross-entropy loss function \"\"\"\n",
        "\n",
        "    def loss(self, X_batch, y_batch, reg):\n",
        "        return softmax_loss_vectorized(self.W, X_batch, y_batch, reg)"
      ],
      "metadata": {
        "id": "YQzZAB5C75-I"
      },
      "execution_count": 324,
      "outputs": []
    },
    {
      "cell_type": "markdown",
      "source": [
        "# Импорт прошёл успешно"
      ],
      "metadata": {
        "id": "emaWx16W77Qb"
      }
    },
    {
      "cell_type": "code",
      "execution_count": 325,
      "metadata": {
        "id": "XvBnsgc-pR9u",
        "colab": {
          "base_uri": "https://localhost:8080/"
        },
        "outputId": "c7cdd7bc-9dda-4826-a29b-fa4e7d845032"
      },
      "outputs": [
        {
          "output_type": "stream",
          "name": "stderr",
          "text": [
            "\r  0%|          | 0/1500 [00:00<?, ?it/s]"
          ]
        },
        {
          "output_type": "stream",
          "name": "stdout",
          "text": [
            "iteration 0 / 1500: loss 409.680029\n"
          ]
        },
        {
          "output_type": "stream",
          "name": "stderr",
          "text": [
            "  8%|▊         | 116/1500 [00:00<00:12, 114.10it/s]"
          ]
        },
        {
          "output_type": "stream",
          "name": "stdout",
          "text": [
            "iteration 100 / 1500: loss 526.946395\n"
          ]
        },
        {
          "output_type": "stream",
          "name": "stderr",
          "text": [
            " 15%|█▍        | 221/1500 [00:01<00:10, 122.66it/s]"
          ]
        },
        {
          "output_type": "stream",
          "name": "stdout",
          "text": [
            "iteration 200 / 1500: loss 2114.997689\n"
          ]
        },
        {
          "output_type": "stream",
          "name": "stderr",
          "text": [
            " 22%|██▏       | 324/1500 [00:02<00:09, 120.95it/s]"
          ]
        },
        {
          "output_type": "stream",
          "name": "stdout",
          "text": [
            "iteration 300 / 1500: loss 3571.836061\n"
          ]
        },
        {
          "output_type": "stream",
          "name": "stderr",
          "text": [
            " 28%|██▊       | 415/1500 [00:03<00:09, 120.25it/s]"
          ]
        },
        {
          "output_type": "stream",
          "name": "stdout",
          "text": [
            "iteration 400 / 1500: loss 2915.078873\n"
          ]
        },
        {
          "output_type": "stream",
          "name": "stderr",
          "text": [
            " 35%|███▍      | 522/1500 [00:04<00:08, 116.99it/s]"
          ]
        },
        {
          "output_type": "stream",
          "name": "stdout",
          "text": [
            "iteration 500 / 1500: loss 4472.976170\n"
          ]
        },
        {
          "output_type": "stream",
          "name": "stderr",
          "text": [
            " 41%|████      | 614/1500 [00:05<00:06, 126.71it/s]"
          ]
        },
        {
          "output_type": "stream",
          "name": "stdout",
          "text": [
            "iteration 600 / 1500: loss 4079.801167\n"
          ]
        },
        {
          "output_type": "stream",
          "name": "stderr",
          "text": [
            " 48%|████▊     | 717/1500 [00:05<00:06, 119.68it/s]"
          ]
        },
        {
          "output_type": "stream",
          "name": "stdout",
          "text": [
            "iteration 700 / 1500: loss 6250.225059\n"
          ]
        },
        {
          "output_type": "stream",
          "name": "stderr",
          "text": [
            " 55%|█████▍    | 821/1500 [00:06<00:05, 121.65it/s]"
          ]
        },
        {
          "output_type": "stream",
          "name": "stdout",
          "text": [
            "iteration 800 / 1500: loss 4434.069822\n"
          ]
        },
        {
          "output_type": "stream",
          "name": "stderr",
          "text": [
            " 62%|██████▏   | 924/1500 [00:07<00:04, 117.97it/s]"
          ]
        },
        {
          "output_type": "stream",
          "name": "stdout",
          "text": [
            "iteration 900 / 1500: loss 5549.963311\n"
          ]
        },
        {
          "output_type": "stream",
          "name": "stderr",
          "text": [
            " 68%|██████▊   | 1013/1500 [00:08<00:04, 121.52it/s]"
          ]
        },
        {
          "output_type": "stream",
          "name": "stdout",
          "text": [
            "iteration 1000 / 1500: loss 7049.062607\n"
          ]
        },
        {
          "output_type": "stream",
          "name": "stderr",
          "text": [
            " 75%|███████▍  | 1118/1500 [00:09<00:03, 121.66it/s]"
          ]
        },
        {
          "output_type": "stream",
          "name": "stdout",
          "text": [
            "iteration 1100 / 1500: loss 5158.532858\n"
          ]
        },
        {
          "output_type": "stream",
          "name": "stderr",
          "text": [
            " 82%|████████▏ | 1227/1500 [00:10<00:02, 129.45it/s]"
          ]
        },
        {
          "output_type": "stream",
          "name": "stdout",
          "text": [
            "iteration 1200 / 1500: loss 10517.997462\n"
          ]
        },
        {
          "output_type": "stream",
          "name": "stderr",
          "text": [
            " 88%|████████▊ | 1319/1500 [00:10<00:01, 127.67it/s]"
          ]
        },
        {
          "output_type": "stream",
          "name": "stdout",
          "text": [
            "iteration 1300 / 1500: loss 10850.623399\n"
          ]
        },
        {
          "output_type": "stream",
          "name": "stderr",
          "text": [
            " 94%|█████████▍| 1412/1500 [00:11<00:00, 120.51it/s]"
          ]
        },
        {
          "output_type": "stream",
          "name": "stdout",
          "text": [
            "iteration 1400 / 1500: loss 6286.495153\n"
          ]
        },
        {
          "output_type": "stream",
          "name": "stderr",
          "text": [
            "100%|██████████| 1500/1500 [00:12<00:00, 121.52it/s]"
          ]
        },
        {
          "output_type": "stream",
          "name": "stdout",
          "text": [
            "That took 12.360093s\n"
          ]
        },
        {
          "output_type": "stream",
          "name": "stderr",
          "text": [
            "\n"
          ]
        }
      ],
      "source": [
        "svm = LinearSVM()\n",
        "tic = time.time()\n",
        "loss_hist = svm.train(x_train, y_train, learning_rate=1e-7, reg=2.5e4,\n",
        "                      num_iters=1500, verbose=True)\n",
        "toc = time.time()\n",
        "print('That took %fs' % (toc - tic))"
      ]
    },
    {
      "cell_type": "code",
      "execution_count": 326,
      "metadata": {
        "id": "VuGGNn4FpR9u",
        "colab": {
          "base_uri": "https://localhost:8080/"
        },
        "outputId": "ee1c09b2-fa63-439f-8fb0-9cf958bdd03d"
      },
      "outputs": [
        {
          "output_type": "stream",
          "name": "stdout",
          "text": [
            "training accuracy: 0.099981\n",
            "validation accuracy: 0.101221\n"
          ]
        }
      ],
      "source": [
        "y_train_pred = svm.predict(x_train)\n",
        "print('training accuracy: %f' % (np.mean(y_train == y_train_pred), ))\n",
        "y_val_pred = svm.predict(x_val)\n",
        "print('validation accuracy: %f' % (np.mean(y_val == y_val_pred), ))"
      ]
    },
    {
      "cell_type": "markdown",
      "metadata": {
        "id": "TzOwrUn1pR9u"
      },
      "source": [
        "2.8 С помощью кросс-валидации выберите значения параметров скорости обучения и регуляризации. В кросс-валидации используйте обучающую и валидационную выборки. Оцените accuracy на тестовой выборке."
      ]
    },
    {
      "cell_type": "code",
      "execution_count": 327,
      "metadata": {
        "id": "kbUcB4DkpR9u"
      },
      "outputs": [],
      "source": [
        "learning_rates = [1e-7, 5e-5]\n",
        "regularization_strengths = [2.5e4, 5e4]"
      ]
    },
    {
      "cell_type": "code",
      "source": [
        "results = {}\n",
        "best_val = -1   \n",
        "best_svm = None"
      ],
      "metadata": {
        "id": "I7eIVztw-PgO"
      },
      "execution_count": 328,
      "outputs": []
    },
    {
      "cell_type": "code",
      "source": [
        "for lr in learning_rates:\n",
        "    for reg in regularization_strengths:\n",
        "        svm = LinearSVM()\n",
        "        svm.train(x_train, y_train, lr, reg, num_iters=2000, verbose=False)\n",
        "        y_train_pred = svm.predict(x_train)\n",
        "        y_val_pred = svm.predict(x_val)\n",
        "        training_accuracies = np.mean(y_train == y_train_pred)\n",
        "        validation_accuracies = np.mean(y_val == y_val_pred)\n",
        "        results[(lr, reg)] = (training_accuracies, validation_accuracies)\n",
        "        if validation_accuracies > best_val:\n",
        "            \n",
        "            best_val = validation_accuracies"
      ],
      "metadata": {
        "colab": {
          "base_uri": "https://localhost:8080/"
        },
        "id": "Ipv-fpRX-RBS",
        "outputId": "8efdacee-8812-4436-b107-671984bf4f24"
      },
      "execution_count": 329,
      "outputs": [
        {
          "output_type": "stream",
          "name": "stderr",
          "text": [
            "100%|██████████| 2000/2000 [00:16<00:00, 122.30it/s]\n",
            "100%|██████████| 2000/2000 [00:16<00:00, 122.77it/s]\n",
            "100%|██████████| 2000/2000 [00:16<00:00, 123.79it/s]\n",
            " 43%|████▎     | 864/2000 [00:06<00:08, 131.55it/s]/usr/local/lib/python3.7/dist-packages/ipykernel_launcher.py:88: RuntimeWarning: overflow encountered in double_scalars\n",
            " 44%|████▍     | 878/2000 [00:06<00:09, 122.28it/s]/usr/local/lib/python3.7/dist-packages/ipykernel_launcher.py:88: RuntimeWarning: overflow encountered in multiply\n",
            " 87%|████████▋ | 1731/2000 [00:13<00:01, 135.44it/s]/usr/local/lib/python3.7/dist-packages/ipykernel_launcher.py:106: RuntimeWarning: overflow encountered in multiply\n",
            "/usr/local/lib/python3.7/dist-packages/ipykernel_launcher.py:84: RuntimeWarning: invalid value encountered in subtract\n",
            "100%|██████████| 2000/2000 [00:15<00:00, 127.49it/s]\n"
          ]
        }
      ]
    },
    {
      "cell_type": "code",
      "source": [
        "for lr, reg in sorted(results):\n",
        "    train_accuracy, val_accuracy = results[(lr, reg)]\n",
        "    print('lr %e reg %e train accuracy: %f val accuracy: %f' % (\n",
        "                lr, reg, train_accuracy, val_accuracy))"
      ],
      "metadata": {
        "colab": {
          "base_uri": "https://localhost:8080/"
        },
        "id": "wLd8rCsw-2nv",
        "outputId": "0ddce48d-6218-41f6-847c-89c06ccda6f0"
      },
      "execution_count": 330,
      "outputs": [
        {
          "output_type": "stream",
          "name": "stdout",
          "text": [
            "lr 1.000000e-07 reg 2.500000e+04 train accuracy: 0.100013 val accuracy: 0.099738\n",
            "lr 1.000000e-07 reg 5.000000e+04 train accuracy: 0.099952 val accuracy: 0.102793\n",
            "lr 5.000000e-05 reg 2.500000e+04 train accuracy: 0.100266 val accuracy: 0.086982\n",
            "lr 5.000000e-05 reg 5.000000e+04 train accuracy: 0.100265 val accuracy: 0.087000\n"
          ]
        }
      ]
    },
    {
      "cell_type": "code",
      "source": [
        "print('best validation accuracy achieved during cross-validation: %f' % best_val)"
      ],
      "metadata": {
        "colab": {
          "base_uri": "https://localhost:8080/"
        },
        "id": "DknoOZYI_E2i",
        "outputId": "97a58842-9856-4819-e932-fffc9fb06f10"
      },
      "execution_count": 331,
      "outputs": [
        {
          "output_type": "stream",
          "name": "stdout",
          "text": [
            "best validation accuracy achieved during cross-validation: 0.102793\n"
          ]
        }
      ]
    },
    {
      "cell_type": "markdown",
      "metadata": {
        "id": "17h97A8cpR9u"
      },
      "source": [
        "2.9 Сделайте выводы по второй части задания"
      ]
    },
    {
      "cell_type": "markdown",
      "source": [
        "Параметр регуляризации оказывает влияние на точность SVM и скорость обучения. Время работы при реализации svm_loss_naive выше, чем при реализации svm_loss_vectorized. "
      ],
      "metadata": {
        "id": "839D8z4G_KF3"
      }
    }
  ],
  "metadata": {
    "kernelspec": {
      "display_name": "Python 3",
      "language": "python",
      "name": "python3"
    },
    "language_info": {
      "codemirror_mode": {
        "name": "ipython",
        "version": 3
      },
      "file_extension": ".py",
      "mimetype": "text/x-python",
      "name": "python",
      "nbconvert_exporter": "python",
      "pygments_lexer": "ipython3",
      "version": "3.7.4"
    },
    "colab": {
      "provenance": [],
      "collapsed_sections": [
        "P8llv20YY1qV",
        "_sQgMXFw1TUB"
      ]
    }
  },
  "nbformat": 4,
  "nbformat_minor": 0
}